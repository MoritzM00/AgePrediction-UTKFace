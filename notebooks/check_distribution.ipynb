{
 "cells": [
  {
   "cell_type": "code",
   "execution_count": null,
   "metadata": {},
   "outputs": [],
   "source": [
    "import tensorflow as tf\n",
    "import pandas as pd\n",
    "import numpy as np\n",
    "import os\n",
    "import matplotlib.image as mpimg\n",
    "import matplotlib.pyplot as plt\n",
    "import scienceplots\n",
    "\n",
    "plt.style.use(\"science\")"
   ]
  },
  {
   "cell_type": "code",
   "execution_count": null,
   "metadata": {},
   "outputs": [],
   "source": [
    "tf.random.set_seed(0)\n",
    "np.random.seed(0)\n",
    "LATEX_WIDTH = 5.9"
   ]
  },
  {
   "cell_type": "code",
   "execution_count": null,
   "metadata": {},
   "outputs": [],
   "source": [
    "images = []\n",
    "ages = []\n",
    "genders = []\n",
    "data_path = \"../data/UTKFace/\"\n",
    "for i in os.listdir(data_path):\n",
    "    split = i.split(\"_\")\n",
    "    ages.append(min(100, int(split[0])))\n",
    "    genders.append(int(split[1]))\n",
    "    images.append(mpimg.imread(data_path + i))"
   ]
  },
  {
   "cell_type": "code",
   "execution_count": null,
   "metadata": {},
   "outputs": [],
   "source": [
    "images = pd.Series(list(images), name=\"image\")\n",
    "ages = pd.Series(list(ages), name=\"age\")\n",
    "genders = pd.Series(list(genders), name=\"gender\")\n",
    "\n",
    "df = pd.concat([images, ages, genders], axis=1)\n",
    "df"
   ]
  },
  {
   "cell_type": "code",
   "execution_count": null,
   "metadata": {},
   "outputs": [],
   "source": [
    "ax = df.age.plot.hist(\n",
    "    bins=45,\n",
    "    figsize=(LATEX_WIDTH, 3),\n",
    "    title=\"Age Distribution\",\n",
    "    xlabel=\"Age\",\n",
    "    density=True,\n",
    ")\n",
    "df.age.plot.kde(ax=ax, color=\"red\", linewidth=2)\n",
    "plt.xlim(0, 120)\n",
    "plt.savefig(\"../ouputs/age_distribution.pdf\")"
   ]
  },
  {
   "cell_type": "code",
   "execution_count": null,
   "metadata": {},
   "outputs": [],
   "source": [
    "df.age.describe()"
   ]
  },
  {
   "cell_type": "code",
   "execution_count": null,
   "metadata": {},
   "outputs": [],
   "source": [
    "from sklearn.model_selection import train_test_split\n",
    "\n",
    "train, test = train_test_split(df, test_size=0.2, random_state=0, stratify=df.Ages)"
   ]
  },
  {
   "cell_type": "code",
   "execution_count": null,
   "metadata": {},
   "outputs": [],
   "source": [
    "train.age.plot.kde(label=\"train\")\n",
    "test.age.plot.kde(label=\"test\")\n",
    "plt.legend()"
   ]
  },
  {
   "cell_type": "code",
   "execution_count": null,
   "metadata": {},
   "outputs": [],
   "source": [
    "# discretization\n",
    "classes = [\"0-9\", \"10-19\", \"20-29\", \"30-39\", \"40-49\", \"50-59\", \"60-69\", \"70+\"]\n",
    "\n",
    "df[\"age_discrete\"] = pd.cut(\n",
    "    df.age, bins=list(range(0, 71, 10)) + [120], labels=classes, right=False\n",
    ")\n",
    "df.age_discrete.value_counts(normalize=True).plot(\n",
    "    kind=\"pie\", autopct=\"%.1f\", legend=False, figsize=(LATEX_WIDTH, 3)\n",
    ")\n",
    "plt.savefig(\"../ouputs/age_discrete_distribution.pdf\")"
   ]
  },
  {
   "cell_type": "code",
   "execution_count": null,
   "metadata": {},
   "outputs": [],
   "source": []
  }
 ],
 "metadata": {
  "kernelspec": {
   "display_name": "age-prediction",
   "language": "python",
   "name": "python3"
  },
  "language_info": {
   "codemirror_mode": {
    "name": "ipython",
    "version": 3
   },
   "file_extension": ".py",
   "mimetype": "text/x-python",
   "name": "python",
   "nbconvert_exporter": "python",
   "pygments_lexer": "ipython3",
   "version": "3.9.15"
  }
 },
 "nbformat": 4,
 "nbformat_minor": 2
}
