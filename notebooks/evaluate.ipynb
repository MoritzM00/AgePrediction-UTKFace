{
 "cells": [
  {
   "cell_type": "code",
   "execution_count": null,
   "metadata": {},
   "outputs": [],
   "source": [
    "import numpy as np\n",
    "import matplotlib.pyplot as plt\n",
    "import seaborn as sns\n",
    "from scipy.stats import kstest\n",
    "import plotly.express as px\n",
    "import plotly.figure_factory as ff\n",
    "import plotly.graph_objects as go"
   ]
  },
  {
   "cell_type": "code",
   "execution_count": null,
   "metadata": {},
   "outputs": [],
   "source": [
    "y_true = np.random.normal(50, 10, 1000)\n",
    "y_pred = np.random.normal(40, 8, 1000)"
   ]
  },
  {
   "cell_type": "code",
   "execution_count": null,
   "metadata": {},
   "outputs": [],
   "source": [
    "sns.set_theme()"
   ]
  },
  {
   "cell_type": "code",
   "execution_count": null,
   "metadata": {},
   "outputs": [],
   "source": [
    "sns.kdeplot(y_true, label=\"Ground Truth\")\n",
    "sns.kdeplot(y_pred, label=\"Predictions\")\n",
    "plt.legend()\n",
    "plt.xlabel(\"Age\")\n",
    "plt.show()"
   ]
  },
  {
   "cell_type": "code",
   "execution_count": null,
   "metadata": {},
   "outputs": [],
   "source": [
    "# Group data together\n",
    "hist_data = [y_true, y_pred]\n",
    "\n",
    "group_labels = [\"Ground Truth\", \"Predictions\"]\n",
    "\n",
    "fig = go.Figure()\n",
    "fig.add_scatter(\n",
    "    x=px.ecdf(y_true).data[0].x,\n",
    "    y=px.ecdf(y_true, marginal=\"histogram\").data[0].y,\n",
    "    mode=\"lines\",\n",
    "    name=\"Ground Truth\",\n",
    ")\n",
    "fig.add_scatter(\n",
    "    x=px.ecdf(y_pred).data[0].x,\n",
    "    y=px.ecdf(y_pred, marginal=\"histogram\").data[0].y,\n",
    "    mode=\"lines\",\n",
    "    name=\"Predictions\",\n",
    ")\n",
    "fig.update_layout(title=\"Empirical CDF of the predicted vs. the true ages.\")\n",
    "fig.show()"
   ]
  },
  {
   "cell_type": "code",
   "execution_count": null,
   "metadata": {},
   "outputs": [],
   "source": [
    "fig = plt.subplots(figsize=(10, 5))\n",
    "sns.ecdfplot(y_true, label=\"Ground Truth\")\n",
    "sns.ecdfplot(y_pred, label=\"Predictions\")\n",
    "plt.legend()\n",
    "plt.title(\"Empirical CDF of the predicted vs. the true ages.\")\n",
    "plt.show()"
   ]
  },
  {
   "cell_type": "code",
   "execution_count": null,
   "metadata": {},
   "outputs": [],
   "source": [
    "residuals = y_true - y_pred\n",
    "fig = px.scatter(x=y_true, y=residuals, labels={\"x\": \"True Age\", \"y\": \"Residuals\"})\n",
    "fig.update_layout(title=\"Residuals of the predicted vs. the true ages.\")"
   ]
  },
  {
   "cell_type": "code",
   "execution_count": null,
   "metadata": {},
   "outputs": [],
   "source": [
    "def evaluate_age_distribution(y_true, y_pred):\n",
    "    \"\"\"Evaluate the distribution of ages in the predicted vs. the true ages.\"\"\"\n",
    "    results = kstest(y_true, y_pred)\n",
    "    return results"
   ]
  },
  {
   "cell_type": "code",
   "execution_count": null,
   "metadata": {},
   "outputs": [],
   "source": [
    "evaluate_age_distribution(y_true, y_pred)"
   ]
  },
  {
   "cell_type": "code",
   "execution_count": null,
   "metadata": {},
   "outputs": [],
   "source": []
  }
 ],
 "metadata": {
  "kernelspec": {
   "display_name": "age-prediction",
   "language": "python",
   "name": "python3"
  },
  "language_info": {
   "codemirror_mode": {
    "name": "ipython",
    "version": 3
   },
   "file_extension": ".py",
   "mimetype": "text/x-python",
   "name": "python",
   "nbconvert_exporter": "python",
   "pygments_lexer": "ipython3",
   "version": "3.9.15"
  }
 },
 "nbformat": 4,
 "nbformat_minor": 2
}
