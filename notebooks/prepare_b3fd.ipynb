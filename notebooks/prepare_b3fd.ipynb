{
 "cells": [
  {
   "cell_type": "code",
   "execution_count": null,
   "metadata": {},
   "outputs": [],
   "source": [
    "import pathlib\n",
    "import os\n",
    "import shutil\n",
    "import pandas as pd\n",
    "import numpy as np\n",
    "import tensorflow as tf"
   ]
  },
  {
   "cell_type": "code",
   "execution_count": null,
   "metadata": {},
   "outputs": [],
   "source": [
    "tf.random.set_seed(0)\n",
    "np.random.seed(0)\n",
    "\n",
    "data_path = pathlib.Path(\"../data/B3FD/\")"
   ]
  },
  {
   "cell_type": "code",
   "execution_count": null,
   "metadata": {},
   "outputs": [],
   "source": [
    "# read the metadata\n",
    "metadata = pd.read_csv(\n",
    "    \"../data/B3FD_metadata/B3FD_age.csv\",\n",
    "    sep=\" \",\n",
    "    header=None,\n",
    "    names=[\"filepath\", \"age\"],\n",
    ")\n",
    "metadata.filepath[0]"
   ]
  },
  {
   "cell_type": "code",
   "execution_count": null,
   "metadata": {},
   "outputs": [],
   "source": [
    "new_dir = pathlib.Path(\"../data/B3FD_modified/\")\n",
    "new_dir.mkdir(exist_ok=True)"
   ]
  },
  {
   "cell_type": "code",
   "execution_count": null,
   "metadata": {},
   "outputs": [],
   "source": [
    "for i, file in enumerate(data_path.glob(\"*/*.jpg\")):\n",
    "    first = file.parent.name\n",
    "    second = file.name\n",
    "    filename = str(os.path.join(first, second))\n",
    "    age = metadata[metadata[\"filepath\"] == filename][\"age\"].values[0]\n",
    "\n",
    "    # move the file to the new directory with the age in the filename\n",
    "    new_filename = f\"{age}_{filename.replace('/', '-')}\"\n",
    "    shutil.move(file, os.path.join(new_dir, new_filename))"
   ]
  }
 ],
 "metadata": {
  "kernelspec": {
   "display_name": "age-prediction",
   "language": "python",
   "name": "python3"
  },
  "language_info": {
   "codemirror_mode": {
    "name": "ipython",
    "version": 3
   },
   "file_extension": ".py",
   "mimetype": "text/x-python",
   "name": "python",
   "nbconvert_exporter": "python",
   "pygments_lexer": "ipython3",
   "version": "3.9.16"
  }
 },
 "nbformat": 4,
 "nbformat_minor": 2
}
